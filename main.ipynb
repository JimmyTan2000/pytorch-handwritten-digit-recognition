{
 "cells": [
  {
   "cell_type": "markdown",
   "metadata": {},
   "source": [
    "## Import necessary libraries"
   ]
  },
  {
   "cell_type": "code",
   "execution_count": 1,
   "metadata": {},
   "outputs": [],
   "source": [
    "from torchvision import datasets\n",
    "from torchvision.transforms import ToTensor"
   ]
  },
  {
   "cell_type": "markdown",
   "metadata": {},
   "source": [
    "## Download train and test data"
   ]
  },
  {
   "cell_type": "code",
   "execution_count": 2,
   "metadata": {},
   "outputs": [],
   "source": [
    "train_data = datasets.MNIST(\n",
    "    root = 'data',\n",
    "    train = True,\n",
    "    transform = ToTensor(),\n",
    "    download = True\n",
    ")\n",
    "\n",
    "test_data = datasets.MNIST(\n",
    "    root = 'data',\n",
    "    train = False,\n",
    "    transform = ToTensor(),\n",
    "    download = True\n",
    ")"
   ]
  },
  {
   "cell_type": "code",
   "execution_count": 3,
   "metadata": {},
   "outputs": [
    {
     "data": {
      "text/plain": [
       "Dataset MNIST\n",
       "    Number of datapoints: 60000\n",
       "    Root location: data\n",
       "    Split: Train\n",
       "    StandardTransform\n",
       "Transform: ToTensor()"
      ]
     },
     "execution_count": 3,
     "metadata": {},
     "output_type": "execute_result"
    }
   ],
   "source": [
    "train_data"
   ]
  },
  {
   "cell_type": "code",
   "execution_count": 4,
   "metadata": {},
   "outputs": [
    {
     "data": {
      "text/plain": [
       "Dataset MNIST\n",
       "    Number of datapoints: 10000\n",
       "    Root location: data\n",
       "    Split: Test\n",
       "    StandardTransform\n",
       "Transform: ToTensor()"
      ]
     },
     "execution_count": 4,
     "metadata": {},
     "output_type": "execute_result"
    }
   ],
   "source": [
    "test_data"
   ]
  },
  {
   "cell_type": "code",
   "execution_count": 5,
   "metadata": {},
   "outputs": [
    {
     "data": {
      "text/plain": [
       "tensor([[[0, 0, 0,  ..., 0, 0, 0],\n",
       "         [0, 0, 0,  ..., 0, 0, 0],\n",
       "         [0, 0, 0,  ..., 0, 0, 0],\n",
       "         ...,\n",
       "         [0, 0, 0,  ..., 0, 0, 0],\n",
       "         [0, 0, 0,  ..., 0, 0, 0],\n",
       "         [0, 0, 0,  ..., 0, 0, 0]],\n",
       "\n",
       "        [[0, 0, 0,  ..., 0, 0, 0],\n",
       "         [0, 0, 0,  ..., 0, 0, 0],\n",
       "         [0, 0, 0,  ..., 0, 0, 0],\n",
       "         ...,\n",
       "         [0, 0, 0,  ..., 0, 0, 0],\n",
       "         [0, 0, 0,  ..., 0, 0, 0],\n",
       "         [0, 0, 0,  ..., 0, 0, 0]],\n",
       "\n",
       "        [[0, 0, 0,  ..., 0, 0, 0],\n",
       "         [0, 0, 0,  ..., 0, 0, 0],\n",
       "         [0, 0, 0,  ..., 0, 0, 0],\n",
       "         ...,\n",
       "         [0, 0, 0,  ..., 0, 0, 0],\n",
       "         [0, 0, 0,  ..., 0, 0, 0],\n",
       "         [0, 0, 0,  ..., 0, 0, 0]],\n",
       "\n",
       "        ...,\n",
       "\n",
       "        [[0, 0, 0,  ..., 0, 0, 0],\n",
       "         [0, 0, 0,  ..., 0, 0, 0],\n",
       "         [0, 0, 0,  ..., 0, 0, 0],\n",
       "         ...,\n",
       "         [0, 0, 0,  ..., 0, 0, 0],\n",
       "         [0, 0, 0,  ..., 0, 0, 0],\n",
       "         [0, 0, 0,  ..., 0, 0, 0]],\n",
       "\n",
       "        [[0, 0, 0,  ..., 0, 0, 0],\n",
       "         [0, 0, 0,  ..., 0, 0, 0],\n",
       "         [0, 0, 0,  ..., 0, 0, 0],\n",
       "         ...,\n",
       "         [0, 0, 0,  ..., 0, 0, 0],\n",
       "         [0, 0, 0,  ..., 0, 0, 0],\n",
       "         [0, 0, 0,  ..., 0, 0, 0]],\n",
       "\n",
       "        [[0, 0, 0,  ..., 0, 0, 0],\n",
       "         [0, 0, 0,  ..., 0, 0, 0],\n",
       "         [0, 0, 0,  ..., 0, 0, 0],\n",
       "         ...,\n",
       "         [0, 0, 0,  ..., 0, 0, 0],\n",
       "         [0, 0, 0,  ..., 0, 0, 0],\n",
       "         [0, 0, 0,  ..., 0, 0, 0]]], dtype=torch.uint8)"
      ]
     },
     "execution_count": 5,
     "metadata": {},
     "output_type": "execute_result"
    }
   ],
   "source": [
    "train_data.data"
   ]
  },
  {
   "cell_type": "code",
   "execution_count": 6,
   "metadata": {},
   "outputs": [
    {
     "data": {
      "text/plain": [
       "torch.Size([60000, 28, 28])"
      ]
     },
     "execution_count": 6,
     "metadata": {},
     "output_type": "execute_result"
    }
   ],
   "source": [
    "train_data.data.shape"
   ]
  },
  {
   "cell_type": "code",
   "execution_count": 7,
   "metadata": {},
   "outputs": [
    {
     "data": {
      "text/plain": [
       "torch.Size([10000, 28, 28])"
      ]
     },
     "execution_count": 7,
     "metadata": {},
     "output_type": "execute_result"
    }
   ],
   "source": [
    "test_data.data.shape"
   ]
  },
  {
   "cell_type": "code",
   "execution_count": 8,
   "metadata": {},
   "outputs": [
    {
     "data": {
      "text/plain": [
       "torch.Size([60000])"
      ]
     },
     "execution_count": 8,
     "metadata": {},
     "output_type": "execute_result"
    }
   ],
   "source": [
    "train_data.targets.size()"
   ]
  },
  {
   "cell_type": "code",
   "execution_count": 9,
   "metadata": {},
   "outputs": [
    {
     "data": {
      "text/plain": [
       "tensor([5, 0, 4,  ..., 5, 6, 8])"
      ]
     },
     "execution_count": 9,
     "metadata": {},
     "output_type": "execute_result"
    }
   ],
   "source": [
    "train_data.targets"
   ]
  },
  {
   "cell_type": "markdown",
   "metadata": {},
   "source": [
    "## Load the train and test data"
   ]
  },
  {
   "cell_type": "code",
   "execution_count": 10,
   "metadata": {},
   "outputs": [],
   "source": [
    "from torch.utils.data import DataLoader\n",
    "\n",
    "loaders = {\n",
    "    'train': DataLoader(\n",
    "        train_data,\n",
    "        batch_size=100,\n",
    "        shuffle=True,\n",
    "        num_workers=1),\n",
    "\n",
    "    'test': DataLoader(\n",
    "        test_data,\n",
    "        batch_size=100,\n",
    "        shuffle=True,\n",
    "        num_workers=1\n",
    "    )\n",
    "}"
   ]
  },
  {
   "cell_type": "code",
   "execution_count": 11,
   "metadata": {},
   "outputs": [
    {
     "data": {
      "text/plain": [
       "{'train': <torch.utils.data.dataloader.DataLoader at 0x1661398f440>,\n",
       " 'test': <torch.utils.data.dataloader.DataLoader at 0x1660af5c1a0>}"
      ]
     },
     "execution_count": 11,
     "metadata": {},
     "output_type": "execute_result"
    }
   ],
   "source": [
    "loaders"
   ]
  },
  {
   "cell_type": "markdown",
   "metadata": {},
   "source": [
    "## Define the model architecture"
   ]
  },
  {
   "cell_type": "code",
   "execution_count": 12,
   "metadata": {},
   "outputs": [],
   "source": [
    "import torch.nn as nn\n",
    "import torch.nn.functional as F\n",
    "import torch.optim as optim\n",
    "\n",
    "class CNN(nn.Module):\n",
    "\n",
    "    def __init__(self):\n",
    "        super(CNN, self).__init__()\n",
    "\n",
    "        self.conv1 = nn.Conv2d(1, 10, kernel_size=5)\n",
    "        self.conv2 = nn.Conv2d(10, 20, kernel_size=5)\n",
    "        self.conv2_drop = nn.Dropout2d()\n",
    "        self.fc1 = nn.Linear(320, 50)\n",
    "        self.fc2 = nn.Linear(50,10)\n",
    "\n",
    "    def forward(self, x):\n",
    "        x = F.relu(F.max_pool2d(self.conv1(x), 2))\n",
    "        x = F.relu(F.max_pool2d(self.conv2_drop(self.conv2(x)), 2))\n",
    "        x = x.view(-1, 320)\n",
    "        x = F.relu(self.fc1(x))\n",
    "        x = F.dropout(x, training=self.training)\n",
    "        x = self.fc2(x)\n",
    "\n",
    "        return F.softmax(x)"
   ]
  },
  {
   "cell_type": "markdown",
   "metadata": {},
   "source": [
    "## Perform training and evaluation"
   ]
  },
  {
   "cell_type": "code",
   "execution_count": 13,
   "metadata": {},
   "outputs": [
    {
     "name": "stdout",
     "output_type": "stream",
     "text": [
      "Device: cuda\n"
     ]
    }
   ],
   "source": [
    "import torch\n",
    "\n",
    "device = torch.device('cuda' if torch.cuda.is_available() else 'cpu')\n",
    "\n",
    "print(f'Device: {device}')\n",
    "\n",
    "model = CNN().to(device)\n",
    "\n",
    "optimizer = optim.Adam(model.parameters(), lr=0.001)\n",
    "\n",
    "loss_fn = nn.CrossEntropyLoss()\n",
    "\n",
    "def train(epoch):\n",
    "    model.train()\n",
    "    for batch_idx, (data, target) in enumerate(loaders['train']):\n",
    "        data, target = data.to(device), target.to(device)\n",
    "        optimizer.zero_grad()\n",
    "        output = model(data)\n",
    "        loss = loss_fn(output, target)\n",
    "        loss.backward()\n",
    "        optimizer.step()\n",
    "        if batch_idx % 20 == 0:\n",
    "            print(f'Train Epoch: {epoch} [{batch_idx * len(data)}/{len(loaders[\"train\"].dataset)} ({100. * batch_idx / len(loaders[\"train\"]):.0f}%)]\\t{loss.item():.6f}')\n",
    "\n",
    "def test():\n",
    "    model.eval()\n",
    "\n",
    "    test_loss = 0\n",
    "    correct = 0\n",
    "\n",
    "    with torch.no_grad():\n",
    "        for data, target in loaders['test']:\n",
    "            data, target = data.to(device), target.to(device)\n",
    "            output = model(data)\n",
    "            test_loss += loss_fn(output, target).item()\n",
    "            pred = output.argmax(dim=1, keepdim=True)\n",
    "            correct += pred.eq(target.view_as(pred)).sum().item()\n",
    "    \n",
    "    test_loss /= len(loaders['test'].dataset)\n",
    "    print(f'\\nTest set: Average loss: {test_loss:.4f}, Accuracy {correct}/{len(loaders[\"test\"].dataset)} ({100. * correct / len(loaders[\"test\"].dataset):.0f}%\\n)')"
   ]
  },
  {
   "cell_type": "code",
   "execution_count": 14,
   "metadata": {},
   "outputs": [
    {
     "name": "stderr",
     "output_type": "stream",
     "text": [
      "C:\\Users\\tanji\\AppData\\Local\\Temp\\ipykernel_13792\\3152848051.py:24: UserWarning: Implicit dimension choice for softmax has been deprecated. Change the call to include dim=X as an argument.\n",
      "  return F.softmax(x)\n"
     ]
    },
    {
     "name": "stdout",
     "output_type": "stream",
     "text": [
      "Train Epoch: 1 [0/60000 (0%)]\t2.303557\n",
      "Train Epoch: 1 [2000/60000 (3%)]\t2.287045\n",
      "Train Epoch: 1 [4000/60000 (7%)]\t2.137047\n",
      "Train Epoch: 1 [6000/60000 (10%)]\t1.930382\n",
      "Train Epoch: 1 [8000/60000 (13%)]\t1.868400\n",
      "Train Epoch: 1 [10000/60000 (17%)]\t1.780726\n",
      "Train Epoch: 1 [12000/60000 (20%)]\t1.794852\n",
      "Train Epoch: 1 [14000/60000 (23%)]\t1.785758\n",
      "Train Epoch: 1 [16000/60000 (27%)]\t1.777628\n",
      "Train Epoch: 1 [18000/60000 (30%)]\t1.748255\n",
      "Train Epoch: 1 [20000/60000 (33%)]\t1.742450\n",
      "Train Epoch: 1 [22000/60000 (37%)]\t1.701247\n",
      "Train Epoch: 1 [24000/60000 (40%)]\t1.664683\n",
      "Train Epoch: 1 [26000/60000 (43%)]\t1.626120\n",
      "Train Epoch: 1 [28000/60000 (47%)]\t1.712769\n",
      "Train Epoch: 1 [30000/60000 (50%)]\t1.677680\n",
      "Train Epoch: 1 [32000/60000 (53%)]\t1.668211\n",
      "Train Epoch: 1 [34000/60000 (57%)]\t1.684905\n",
      "Train Epoch: 1 [36000/60000 (60%)]\t1.653656\n",
      "Train Epoch: 1 [38000/60000 (63%)]\t1.599187\n",
      "Train Epoch: 1 [40000/60000 (67%)]\t1.592275\n",
      "Train Epoch: 1 [42000/60000 (70%)]\t1.584211\n",
      "Train Epoch: 1 [44000/60000 (73%)]\t1.614231\n",
      "Train Epoch: 1 [46000/60000 (77%)]\t1.586972\n",
      "Train Epoch: 1 [48000/60000 (80%)]\t1.574103\n",
      "Train Epoch: 1 [50000/60000 (83%)]\t1.649587\n",
      "Train Epoch: 1 [52000/60000 (87%)]\t1.664137\n",
      "Train Epoch: 1 [54000/60000 (90%)]\t1.628912\n",
      "Train Epoch: 1 [56000/60000 (93%)]\t1.649339\n",
      "Train Epoch: 1 [58000/60000 (97%)]\t1.608251\n",
      "\n",
      "Test set: Average loss: 0.0153, Accuracy 9284/10000 (93%\n",
      ")\n",
      "Train Epoch: 2 [0/60000 (0%)]\t1.589098\n",
      "Train Epoch: 2 [2000/60000 (3%)]\t1.592307\n",
      "Train Epoch: 2 [4000/60000 (7%)]\t1.650312\n",
      "Train Epoch: 2 [6000/60000 (10%)]\t1.616451\n",
      "Train Epoch: 2 [8000/60000 (13%)]\t1.581862\n",
      "Train Epoch: 2 [10000/60000 (17%)]\t1.593287\n",
      "Train Epoch: 2 [12000/60000 (20%)]\t1.630492\n",
      "Train Epoch: 2 [14000/60000 (23%)]\t1.612187\n",
      "Train Epoch: 2 [16000/60000 (27%)]\t1.609477\n",
      "Train Epoch: 2 [18000/60000 (30%)]\t1.623428\n",
      "Train Epoch: 2 [20000/60000 (33%)]\t1.602181\n",
      "Train Epoch: 2 [22000/60000 (37%)]\t1.604447\n",
      "Train Epoch: 2 [24000/60000 (40%)]\t1.599515\n",
      "Train Epoch: 2 [26000/60000 (43%)]\t1.571102\n",
      "Train Epoch: 2 [28000/60000 (47%)]\t1.549893\n",
      "Train Epoch: 2 [30000/60000 (50%)]\t1.633533\n",
      "Train Epoch: 2 [32000/60000 (53%)]\t1.635809\n",
      "Train Epoch: 2 [34000/60000 (57%)]\t1.637500\n",
      "Train Epoch: 2 [36000/60000 (60%)]\t1.536272\n",
      "Train Epoch: 2 [38000/60000 (63%)]\t1.573428\n",
      "Train Epoch: 2 [40000/60000 (67%)]\t1.582470\n",
      "Train Epoch: 2 [42000/60000 (70%)]\t1.592977\n",
      "Train Epoch: 2 [44000/60000 (73%)]\t1.609711\n",
      "Train Epoch: 2 [46000/60000 (77%)]\t1.543146\n",
      "Train Epoch: 2 [48000/60000 (80%)]\t1.590352\n",
      "Train Epoch: 2 [50000/60000 (83%)]\t1.552057\n",
      "Train Epoch: 2 [52000/60000 (87%)]\t1.561031\n",
      "Train Epoch: 2 [54000/60000 (90%)]\t1.578976\n",
      "Train Epoch: 2 [56000/60000 (93%)]\t1.576934\n",
      "Train Epoch: 2 [58000/60000 (97%)]\t1.611685\n",
      "\n",
      "Test set: Average loss: 0.0151, Accuracy 9473/10000 (95%\n",
      ")\n",
      "Train Epoch: 3 [0/60000 (0%)]\t1.597991\n",
      "Train Epoch: 3 [2000/60000 (3%)]\t1.537532\n",
      "Train Epoch: 3 [4000/60000 (7%)]\t1.557551\n",
      "Train Epoch: 3 [6000/60000 (10%)]\t1.608661\n",
      "Train Epoch: 3 [8000/60000 (13%)]\t1.577245\n",
      "Train Epoch: 3 [10000/60000 (17%)]\t1.577923\n",
      "Train Epoch: 3 [12000/60000 (20%)]\t1.615718\n",
      "Train Epoch: 3 [14000/60000 (23%)]\t1.550089\n",
      "Train Epoch: 3 [16000/60000 (27%)]\t1.565753\n",
      "Train Epoch: 3 [18000/60000 (30%)]\t1.572411\n",
      "Train Epoch: 3 [20000/60000 (33%)]\t1.555098\n",
      "Train Epoch: 3 [22000/60000 (37%)]\t1.549274\n",
      "Train Epoch: 3 [24000/60000 (40%)]\t1.567662\n",
      "Train Epoch: 3 [26000/60000 (43%)]\t1.591335\n",
      "Train Epoch: 3 [28000/60000 (47%)]\t1.559053\n",
      "Train Epoch: 3 [30000/60000 (50%)]\t1.539629\n",
      "Train Epoch: 3 [32000/60000 (53%)]\t1.545322\n",
      "Train Epoch: 3 [34000/60000 (57%)]\t1.526591\n",
      "Train Epoch: 3 [36000/60000 (60%)]\t1.577532\n",
      "Train Epoch: 3 [38000/60000 (63%)]\t1.556474\n",
      "Train Epoch: 3 [40000/60000 (67%)]\t1.553539\n",
      "Train Epoch: 3 [42000/60000 (70%)]\t1.577638\n",
      "Train Epoch: 3 [44000/60000 (73%)]\t1.537588\n",
      "Train Epoch: 3 [46000/60000 (77%)]\t1.528365\n",
      "Train Epoch: 3 [48000/60000 (80%)]\t1.530590\n",
      "Train Epoch: 3 [50000/60000 (83%)]\t1.564186\n",
      "Train Epoch: 3 [52000/60000 (87%)]\t1.572978\n",
      "Train Epoch: 3 [54000/60000 (90%)]\t1.562755\n",
      "Train Epoch: 3 [56000/60000 (93%)]\t1.573084\n",
      "Train Epoch: 3 [58000/60000 (97%)]\t1.570077\n",
      "\n",
      "Test set: Average loss: 0.0150, Accuracy 9576/10000 (96%\n",
      ")\n",
      "Train Epoch: 4 [0/60000 (0%)]\t1.584529\n",
      "Train Epoch: 4 [2000/60000 (3%)]\t1.529690\n",
      "Train Epoch: 4 [4000/60000 (7%)]\t1.570347\n",
      "Train Epoch: 4 [6000/60000 (10%)]\t1.567243\n",
      "Train Epoch: 4 [8000/60000 (13%)]\t1.533682\n",
      "Train Epoch: 4 [10000/60000 (17%)]\t1.552645\n",
      "Train Epoch: 4 [12000/60000 (20%)]\t1.501348\n",
      "Train Epoch: 4 [14000/60000 (23%)]\t1.540187\n",
      "Train Epoch: 4 [16000/60000 (27%)]\t1.513913\n",
      "Train Epoch: 4 [18000/60000 (30%)]\t1.532221\n",
      "Train Epoch: 4 [20000/60000 (33%)]\t1.492124\n",
      "Train Epoch: 4 [22000/60000 (37%)]\t1.522264\n",
      "Train Epoch: 4 [24000/60000 (40%)]\t1.556789\n",
      "Train Epoch: 4 [26000/60000 (43%)]\t1.560068\n",
      "Train Epoch: 4 [28000/60000 (47%)]\t1.579938\n",
      "Train Epoch: 4 [30000/60000 (50%)]\t1.553589\n",
      "Train Epoch: 4 [32000/60000 (53%)]\t1.535418\n",
      "Train Epoch: 4 [34000/60000 (57%)]\t1.577206\n",
      "Train Epoch: 4 [36000/60000 (60%)]\t1.552484\n",
      "Train Epoch: 4 [38000/60000 (63%)]\t1.563017\n",
      "Train Epoch: 4 [40000/60000 (67%)]\t1.543816\n",
      "Train Epoch: 4 [42000/60000 (70%)]\t1.549697\n",
      "Train Epoch: 4 [44000/60000 (73%)]\t1.530768\n",
      "Train Epoch: 4 [46000/60000 (77%)]\t1.520634\n",
      "Train Epoch: 4 [48000/60000 (80%)]\t1.519560\n",
      "Train Epoch: 4 [50000/60000 (83%)]\t1.517470\n",
      "Train Epoch: 4 [52000/60000 (87%)]\t1.556883\n",
      "Train Epoch: 4 [54000/60000 (90%)]\t1.560849\n",
      "Train Epoch: 4 [56000/60000 (93%)]\t1.565364\n",
      "Train Epoch: 4 [58000/60000 (97%)]\t1.552298\n",
      "\n",
      "Test set: Average loss: 0.0150, Accuracy 9629/10000 (96%\n",
      ")\n",
      "Train Epoch: 5 [0/60000 (0%)]\t1.572027\n",
      "Train Epoch: 5 [2000/60000 (3%)]\t1.549921\n",
      "Train Epoch: 5 [4000/60000 (7%)]\t1.557193\n",
      "Train Epoch: 5 [6000/60000 (10%)]\t1.571354\n",
      "Train Epoch: 5 [8000/60000 (13%)]\t1.539774\n",
      "Train Epoch: 5 [10000/60000 (17%)]\t1.553717\n",
      "Train Epoch: 5 [12000/60000 (20%)]\t1.537907\n",
      "Train Epoch: 5 [14000/60000 (23%)]\t1.525021\n",
      "Train Epoch: 5 [16000/60000 (27%)]\t1.575697\n",
      "Train Epoch: 5 [18000/60000 (30%)]\t1.535417\n",
      "Train Epoch: 5 [20000/60000 (33%)]\t1.513114\n",
      "Train Epoch: 5 [22000/60000 (37%)]\t1.527438\n",
      "Train Epoch: 5 [24000/60000 (40%)]\t1.562825\n",
      "Train Epoch: 5 [26000/60000 (43%)]\t1.567284\n",
      "Train Epoch: 5 [28000/60000 (47%)]\t1.578666\n",
      "Train Epoch: 5 [30000/60000 (50%)]\t1.589745\n",
      "Train Epoch: 5 [32000/60000 (53%)]\t1.526311\n",
      "Train Epoch: 5 [34000/60000 (57%)]\t1.553990\n",
      "Train Epoch: 5 [36000/60000 (60%)]\t1.541917\n",
      "Train Epoch: 5 [38000/60000 (63%)]\t1.522884\n",
      "Train Epoch: 5 [40000/60000 (67%)]\t1.519640\n",
      "Train Epoch: 5 [42000/60000 (70%)]\t1.528754\n",
      "Train Epoch: 5 [44000/60000 (73%)]\t1.555456\n",
      "Train Epoch: 5 [46000/60000 (77%)]\t1.510361\n",
      "Train Epoch: 5 [48000/60000 (80%)]\t1.527641\n",
      "Train Epoch: 5 [50000/60000 (83%)]\t1.548723\n",
      "Train Epoch: 5 [52000/60000 (87%)]\t1.528429\n",
      "Train Epoch: 5 [54000/60000 (90%)]\t1.511566\n",
      "Train Epoch: 5 [56000/60000 (93%)]\t1.562524\n",
      "Train Epoch: 5 [58000/60000 (97%)]\t1.551666\n",
      "\n",
      "Test set: Average loss: 0.0150, Accuracy 9656/10000 (97%\n",
      ")\n",
      "Train Epoch: 6 [0/60000 (0%)]\t1.595104\n",
      "Train Epoch: 6 [2000/60000 (3%)]\t1.546730\n",
      "Train Epoch: 6 [4000/60000 (7%)]\t1.558258\n",
      "Train Epoch: 6 [6000/60000 (10%)]\t1.541927\n",
      "Train Epoch: 6 [8000/60000 (13%)]\t1.513430\n",
      "Train Epoch: 6 [10000/60000 (17%)]\t1.526756\n",
      "Train Epoch: 6 [12000/60000 (20%)]\t1.547189\n",
      "Train Epoch: 6 [14000/60000 (23%)]\t1.546366\n",
      "Train Epoch: 6 [16000/60000 (27%)]\t1.540619\n",
      "Train Epoch: 6 [18000/60000 (30%)]\t1.537446\n",
      "Train Epoch: 6 [20000/60000 (33%)]\t1.544681\n",
      "Train Epoch: 6 [22000/60000 (37%)]\t1.515633\n",
      "Train Epoch: 6 [24000/60000 (40%)]\t1.580022\n",
      "Train Epoch: 6 [26000/60000 (43%)]\t1.522196\n",
      "Train Epoch: 6 [28000/60000 (47%)]\t1.523169\n",
      "Train Epoch: 6 [30000/60000 (50%)]\t1.517089\n",
      "Train Epoch: 6 [32000/60000 (53%)]\t1.535230\n",
      "Train Epoch: 6 [34000/60000 (57%)]\t1.519380\n",
      "Train Epoch: 6 [36000/60000 (60%)]\t1.567024\n",
      "Train Epoch: 6 [38000/60000 (63%)]\t1.579565\n",
      "Train Epoch: 6 [40000/60000 (67%)]\t1.521949\n",
      "Train Epoch: 6 [42000/60000 (70%)]\t1.496944\n",
      "Train Epoch: 6 [44000/60000 (73%)]\t1.561089\n",
      "Train Epoch: 6 [46000/60000 (77%)]\t1.521171\n",
      "Train Epoch: 6 [48000/60000 (80%)]\t1.526529\n",
      "Train Epoch: 6 [50000/60000 (83%)]\t1.500064\n",
      "Train Epoch: 6 [52000/60000 (87%)]\t1.526490\n",
      "Train Epoch: 6 [54000/60000 (90%)]\t1.545935\n",
      "Train Epoch: 6 [56000/60000 (93%)]\t1.531611\n",
      "Train Epoch: 6 [58000/60000 (97%)]\t1.559463\n",
      "\n",
      "Test set: Average loss: 0.0149, Accuracy 9701/10000 (97%\n",
      ")\n",
      "Train Epoch: 7 [0/60000 (0%)]\t1.531900\n",
      "Train Epoch: 7 [2000/60000 (3%)]\t1.536007\n",
      "Train Epoch: 7 [4000/60000 (7%)]\t1.523254\n",
      "Train Epoch: 7 [6000/60000 (10%)]\t1.527857\n",
      "Train Epoch: 7 [8000/60000 (13%)]\t1.514837\n",
      "Train Epoch: 7 [10000/60000 (17%)]\t1.556062\n",
      "Train Epoch: 7 [12000/60000 (20%)]\t1.532169\n",
      "Train Epoch: 7 [14000/60000 (23%)]\t1.492948\n",
      "Train Epoch: 7 [16000/60000 (27%)]\t1.530962\n",
      "Train Epoch: 7 [18000/60000 (30%)]\t1.549331\n",
      "Train Epoch: 7 [20000/60000 (33%)]\t1.575724\n",
      "Train Epoch: 7 [22000/60000 (37%)]\t1.550813\n",
      "Train Epoch: 7 [24000/60000 (40%)]\t1.531211\n",
      "Train Epoch: 7 [26000/60000 (43%)]\t1.570330\n",
      "Train Epoch: 7 [28000/60000 (47%)]\t1.558290\n",
      "Train Epoch: 7 [30000/60000 (50%)]\t1.555780\n",
      "Train Epoch: 7 [32000/60000 (53%)]\t1.541952\n",
      "Train Epoch: 7 [34000/60000 (57%)]\t1.547384\n",
      "Train Epoch: 7 [36000/60000 (60%)]\t1.512651\n",
      "Train Epoch: 7 [38000/60000 (63%)]\t1.530192\n",
      "Train Epoch: 7 [40000/60000 (67%)]\t1.535251\n",
      "Train Epoch: 7 [42000/60000 (70%)]\t1.557413\n",
      "Train Epoch: 7 [44000/60000 (73%)]\t1.543964\n",
      "Train Epoch: 7 [46000/60000 (77%)]\t1.585931\n",
      "Train Epoch: 7 [48000/60000 (80%)]\t1.530578\n",
      "Train Epoch: 7 [50000/60000 (83%)]\t1.514290\n",
      "Train Epoch: 7 [52000/60000 (87%)]\t1.529818\n",
      "Train Epoch: 7 [54000/60000 (90%)]\t1.531429\n",
      "Train Epoch: 7 [56000/60000 (93%)]\t1.509740\n",
      "Train Epoch: 7 [58000/60000 (97%)]\t1.560372\n",
      "\n",
      "Test set: Average loss: 0.0149, Accuracy 9708/10000 (97%\n",
      ")\n",
      "Train Epoch: 8 [0/60000 (0%)]\t1.530530\n",
      "Train Epoch: 8 [2000/60000 (3%)]\t1.529290\n",
      "Train Epoch: 8 [4000/60000 (7%)]\t1.522972\n",
      "Train Epoch: 8 [6000/60000 (10%)]\t1.496368\n",
      "Train Epoch: 8 [8000/60000 (13%)]\t1.515379\n",
      "Train Epoch: 8 [10000/60000 (17%)]\t1.524328\n",
      "Train Epoch: 8 [12000/60000 (20%)]\t1.504256\n",
      "Train Epoch: 8 [14000/60000 (23%)]\t1.615938\n",
      "Train Epoch: 8 [16000/60000 (27%)]\t1.505882\n",
      "Train Epoch: 8 [18000/60000 (30%)]\t1.511032\n",
      "Train Epoch: 8 [20000/60000 (33%)]\t1.497886\n",
      "Train Epoch: 8 [22000/60000 (37%)]\t1.481102\n",
      "Train Epoch: 8 [24000/60000 (40%)]\t1.521517\n",
      "Train Epoch: 8 [26000/60000 (43%)]\t1.488427\n",
      "Train Epoch: 8 [28000/60000 (47%)]\t1.529776\n",
      "Train Epoch: 8 [30000/60000 (50%)]\t1.537684\n",
      "Train Epoch: 8 [32000/60000 (53%)]\t1.540865\n",
      "Train Epoch: 8 [34000/60000 (57%)]\t1.518689\n",
      "Train Epoch: 8 [36000/60000 (60%)]\t1.523915\n",
      "Train Epoch: 8 [38000/60000 (63%)]\t1.524820\n",
      "Train Epoch: 8 [40000/60000 (67%)]\t1.479067\n",
      "Train Epoch: 8 [42000/60000 (70%)]\t1.504763\n",
      "Train Epoch: 8 [44000/60000 (73%)]\t1.508009\n",
      "Train Epoch: 8 [46000/60000 (77%)]\t1.513148\n",
      "Train Epoch: 8 [48000/60000 (80%)]\t1.573632\n",
      "Train Epoch: 8 [50000/60000 (83%)]\t1.530284\n",
      "Train Epoch: 8 [52000/60000 (87%)]\t1.565407\n",
      "Train Epoch: 8 [54000/60000 (90%)]\t1.497924\n",
      "Train Epoch: 8 [56000/60000 (93%)]\t1.543728\n",
      "Train Epoch: 8 [58000/60000 (97%)]\t1.542880\n",
      "\n",
      "Test set: Average loss: 0.0149, Accuracy 9742/10000 (97%\n",
      ")\n",
      "Train Epoch: 9 [0/60000 (0%)]\t1.532411\n",
      "Train Epoch: 9 [2000/60000 (3%)]\t1.532466\n",
      "Train Epoch: 9 [4000/60000 (7%)]\t1.515155\n",
      "Train Epoch: 9 [6000/60000 (10%)]\t1.524079\n",
      "Train Epoch: 9 [8000/60000 (13%)]\t1.503353\n",
      "Train Epoch: 9 [10000/60000 (17%)]\t1.505425\n",
      "Train Epoch: 9 [12000/60000 (20%)]\t1.531121\n",
      "Train Epoch: 9 [14000/60000 (23%)]\t1.511589\n",
      "Train Epoch: 9 [16000/60000 (27%)]\t1.537280\n",
      "Train Epoch: 9 [18000/60000 (30%)]\t1.550886\n",
      "Train Epoch: 9 [20000/60000 (33%)]\t1.504900\n",
      "Train Epoch: 9 [22000/60000 (37%)]\t1.497541\n",
      "Train Epoch: 9 [24000/60000 (40%)]\t1.529936\n",
      "Train Epoch: 9 [26000/60000 (43%)]\t1.536907\n",
      "Train Epoch: 9 [28000/60000 (47%)]\t1.546690\n",
      "Train Epoch: 9 [30000/60000 (50%)]\t1.524648\n",
      "Train Epoch: 9 [32000/60000 (53%)]\t1.522942\n",
      "Train Epoch: 9 [34000/60000 (57%)]\t1.511083\n",
      "Train Epoch: 9 [36000/60000 (60%)]\t1.545461\n",
      "Train Epoch: 9 [38000/60000 (63%)]\t1.528325\n",
      "Train Epoch: 9 [40000/60000 (67%)]\t1.577853\n",
      "Train Epoch: 9 [42000/60000 (70%)]\t1.576249\n",
      "Train Epoch: 9 [44000/60000 (73%)]\t1.504224\n",
      "Train Epoch: 9 [46000/60000 (77%)]\t1.530990\n",
      "Train Epoch: 9 [48000/60000 (80%)]\t1.596865\n",
      "Train Epoch: 9 [50000/60000 (83%)]\t1.514245\n",
      "Train Epoch: 9 [52000/60000 (87%)]\t1.481643\n",
      "Train Epoch: 9 [54000/60000 (90%)]\t1.479695\n",
      "Train Epoch: 9 [56000/60000 (93%)]\t1.570787\n",
      "Train Epoch: 9 [58000/60000 (97%)]\t1.537466\n",
      "\n",
      "Test set: Average loss: 0.0149, Accuracy 9769/10000 (98%\n",
      ")\n",
      "Train Epoch: 10 [0/60000 (0%)]\t1.501792\n",
      "Train Epoch: 10 [2000/60000 (3%)]\t1.556370\n",
      "Train Epoch: 10 [4000/60000 (7%)]\t1.496860\n",
      "Train Epoch: 10 [6000/60000 (10%)]\t1.523584\n",
      "Train Epoch: 10 [8000/60000 (13%)]\t1.522460\n",
      "Train Epoch: 10 [10000/60000 (17%)]\t1.514170\n",
      "Train Epoch: 10 [12000/60000 (20%)]\t1.515591\n",
      "Train Epoch: 10 [14000/60000 (23%)]\t1.547626\n",
      "Train Epoch: 10 [16000/60000 (27%)]\t1.496264\n",
      "Train Epoch: 10 [18000/60000 (30%)]\t1.518322\n",
      "Train Epoch: 10 [20000/60000 (33%)]\t1.510004\n",
      "Train Epoch: 10 [22000/60000 (37%)]\t1.534459\n",
      "Train Epoch: 10 [24000/60000 (40%)]\t1.499537\n",
      "Train Epoch: 10 [26000/60000 (43%)]\t1.528799\n",
      "Train Epoch: 10 [28000/60000 (47%)]\t1.509419\n",
      "Train Epoch: 10 [30000/60000 (50%)]\t1.502919\n",
      "Train Epoch: 10 [32000/60000 (53%)]\t1.508560\n",
      "Train Epoch: 10 [34000/60000 (57%)]\t1.561960\n",
      "Train Epoch: 10 [36000/60000 (60%)]\t1.526591\n",
      "Train Epoch: 10 [38000/60000 (63%)]\t1.534265\n",
      "Train Epoch: 10 [40000/60000 (67%)]\t1.518300\n",
      "Train Epoch: 10 [42000/60000 (70%)]\t1.512245\n",
      "Train Epoch: 10 [44000/60000 (73%)]\t1.512790\n",
      "Train Epoch: 10 [46000/60000 (77%)]\t1.505615\n",
      "Train Epoch: 10 [48000/60000 (80%)]\t1.533209\n",
      "Train Epoch: 10 [50000/60000 (83%)]\t1.487296\n",
      "Train Epoch: 10 [52000/60000 (87%)]\t1.569137\n",
      "Train Epoch: 10 [54000/60000 (90%)]\t1.512635\n",
      "Train Epoch: 10 [56000/60000 (93%)]\t1.526686\n",
      "Train Epoch: 10 [58000/60000 (97%)]\t1.518929\n",
      "\n",
      "Test set: Average loss: 0.0148, Accuracy 9781/10000 (98%\n",
      ")\n"
     ]
    }
   ],
   "source": [
    "for epoch in range(1,11):\n",
    "    train(epoch)\n",
    "    test()"
   ]
  },
  {
   "cell_type": "markdown",
   "metadata": {},
   "source": [
    "## Evaluate on one image and plot it out"
   ]
  },
  {
   "cell_type": "code",
   "execution_count": 15,
   "metadata": {},
   "outputs": [
    {
     "name": "stdout",
     "output_type": "stream",
     "text": [
      "Prediction: 7\n"
     ]
    },
    {
     "name": "stderr",
     "output_type": "stream",
     "text": [
      "C:\\Users\\tanji\\AppData\\Local\\Temp\\ipykernel_13792\\3152848051.py:24: UserWarning: Implicit dimension choice for softmax has been deprecated. Change the call to include dim=X as an argument.\n",
      "  return F.softmax(x)\n"
     ]
    },
    {
     "data": {
      "image/png": "[encoded data removed]",
      "text/plain": [
       "<Figure size 640x480 with 1 Axes>"
      ]
     },
     "metadata": {},
     "output_type": "display_data"
    }
   ],
   "source": [
    "import matplotlib.pyplot as plt\n",
    "\n",
    "model.eval()\n",
    "\n",
    "data, targer = test_data[0]\n",
    "\n",
    "data = data.unsqueeze(0).to(device)\n",
    "\n",
    "output = model(data)\n",
    "\n",
    "prediction = output.argmax(dim=1, keepdim=True).item()\n",
    "\n",
    "print(f'Prediction: {prediction}')\n",
    "\n",
    "image = data.squeeze(0).squeeze(0).cpu().numpy()\n",
    "\n",
    "plt.imshow(image, cmap='gray')\n",
    "plt.show()"
   ]
  }
 ],
 "metadata": {
  "kernelspec": {
   "display_name": ".venv",
   "language": "python",
   "name": "python3"
  },
  "language_info": {
   "codemirror_mode": {
    "name": "ipython",
    "version": 3
   },
   "file_extension": ".py",
   "mimetype": "text/x-python",
   "name": "python",
   "nbconvert_exporter": "python",
   "pygments_lexer": "ipython3",
   "version": "3.12.4"
  }
 },
 "nbformat": 4,
 "nbformat_minor": 2
}
